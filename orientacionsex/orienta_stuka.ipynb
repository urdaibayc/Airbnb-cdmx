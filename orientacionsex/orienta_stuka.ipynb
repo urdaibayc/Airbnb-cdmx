{
 "cells": [
  {
   "cell_type": "markdown",
   "metadata": {},
   "source": [
    "# Diccionario de datos\n",
    "\n",
    "## leyes\n",
    "\n",
    "### Variable \tClase \tDescripcion\n",
    "\n",
    "* pais_es \tcaracter \tPaís\n",
    "* criminalizacion \tfactor \tLegalidad de las relaciones entre personas adultas del mismo sexo (0 = ilegal, 1 = legal, 2 = de facto ilegal)\n",
    "* criminalizacion_genero \tcaracter \tGénero criminalizado\n",
    "* criminalizacion_pena \tcaracter \tPena\n",
    "* proteccion_constitucional \tfactor \tProtección constitucional (0 = no, 1 = sí)\n",
    "* proteccion_derechos_amplios \tfactor \tProtección de derechos amplios (0 = no, 1 = sí)\n",
    "* proteccion_empleo \tfactor \tProtección del empleo (0 = no, 1 = sí)\n",
    "* proteccion_contra_crimenes_odio \tfactor \tProtección contra crímenes de odio (0 = no, 1 = sí)\n",
    "* proteccion_contra_incitacion_odio \tfactor \tProtección contra la incitación al odio y la violencia (0 = no, 1 = sí)\n",
    "* reconocimiento_matrimonio \tfactor \tReconocimiento del matrimonio (0 = no, 1 = sí)\n",
    "* reconocimiento_union_civil \tfactor \tReconocimiento de la unión civil (0 = no, 1 = sí)\n",
    "* reconocimiento_adopcion_conjunta \tfactor \tReconocimiento de la adopción conjunta (0 = no, 1 = sí)\n",
    "* reconocimiento_adopcion_segundo_padre \tfactor \tReconocimiento adopción como segunda/o madre/padre (0 = no, 1 = sí) \n",
    "\n",
    "## cambios\n",
    "\n",
    "### Variable \tClase \tDescripcion\n",
    "\n",
    "* pais_es \tcaracter \tPais\n",
    "* datos_2017 \tcaracter \tLegalidad de las relaciones entre parejas del mismo sexo en el año 2017 (ilegal, legal o de_facto_ilegal)\n",
    "* datos_2019 \tcaracter \tLegalidad de las relaciones entre parejas del mismo sexo en el año 2019 (ilegal, legal o de_facto_ilegal))"
   ]
  },
  {
   "cell_type": "code",
   "execution_count": 2,
   "metadata": {},
   "outputs": [],
   "source": [
    "import os\n",
    "import matplotlib.pyplot as plt\n",
    "import matplotlib.colors as pltc\n",
    "import numpy as np\n",
    "import pandas as pd\n",
    "from random import sample"
   ]
  },
  {
   "cell_type": "code",
   "execution_count": null,
   "metadata": {},
   "outputs": [],
   "source": [
    "leyes <- readr::read_csv(\"https://raw.githubusercontent.com/cienciadedatos/datos-de-miercoles/master/datos/2019/2019-06-19/leyes.csv\")\n",
    "cambios <- readr::read_csv(\"https://raw.githubusercontent.com/cienciadedatos/datos-de-miercoles/master/datos/2019/2019-06-19/cambios.csv\")"
   ]
  },
  {
   "cell_type": "code",
   "execution_count": 7,
   "metadata": {},
   "outputs": [],
   "source": [
    "url=\"https://raw.githubusercontent.com/cienciadedatos/datos-de-miercoles/master/datos/2019/2019-06-19/leyes.csv\"\n",
    "leyes=pd.read_csv(url)"
   ]
  },
  {
   "cell_type": "code",
   "execution_count": 6,
   "metadata": {},
   "outputs": [],
   "source": [
    "url=\"https://raw.githubusercontent.com/cienciadedatos/datos-de-miercoles/master/datos/2019/2019-06-19/cambios.csv\"\n",
    "cambios=pd.read_csv(url)"
   ]
  }
 ],
 "metadata": {
  "kernelspec": {
   "display_name": "Python 3",
   "language": "python",
   "name": "python3"
  },
  "language_info": {
   "codemirror_mode": {
    "name": "ipython",
    "version": 3
   },
   "file_extension": ".py",
   "mimetype": "text/x-python",
   "name": "python",
   "nbconvert_exporter": "python",
   "pygments_lexer": "ipython3",
   "version": "3.7.3"
  }
 },
 "nbformat": 4,
 "nbformat_minor": 2
}
