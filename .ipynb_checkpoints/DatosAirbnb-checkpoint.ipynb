{
 "cells": [
  {
   "cell_type": "code",
   "execution_count": 1,
   "metadata": {},
   "outputs": [],
   "source": [
    "import pandas as pd\n",
    "import numpy as np\n",
    "import os\n",
    "import pprint\n",
    "import matplotlib.pyplot as plt"
   ]
  },
  {
   "cell_type": "code",
   "execution_count": 2,
   "metadata": {},
   "outputs": [
    {
     "data": {
      "text/plain": [
       "['DatosAirbnb.ipynb',\n",
       " 'cdmx-airbnb-stuka.ipynb',\n",
       " '.git',\n",
       " 'cdmx.csv',\n",
       " '.ipynb_checkpoints']"
      ]
     },
     "execution_count": 2,
     "metadata": {},
     "output_type": "execute_result"
    }
   ],
   "source": [
    "#os.getcwd()\n",
    "os.listdir()"
   ]
  },
  {
   "cell_type": "code",
   "execution_count": 3,
   "metadata": {},
   "outputs": [],
   "source": [
    "cdmx_airbnb = pd.read_csv('cdmx.csv')\n"
   ]
  },
  {
   "cell_type": "code",
   "execution_count": 4,
   "metadata": {},
   "outputs": [
    {
     "data": {
      "text/html": [
       "<div>\n",
       "<style scoped>\n",
       "    .dataframe tbody tr th:only-of-type {\n",
       "        vertical-align: middle;\n",
       "    }\n",
       "\n",
       "    .dataframe tbody tr th {\n",
       "        vertical-align: top;\n",
       "    }\n",
       "\n",
       "    .dataframe thead th {\n",
       "        text-align: right;\n",
       "    }\n",
       "</style>\n",
       "<table border=\"1\" class=\"dataframe\">\n",
       "  <thead>\n",
       "    <tr style=\"text-align: right;\">\n",
       "      <th></th>\n",
       "      <th>id</th>\n",
       "      <th>descripcion</th>\n",
       "      <th>id_anfitrion</th>\n",
       "      <th>nombre_anfitrion</th>\n",
       "      <th>anfitrion_desde</th>\n",
       "      <th>superanfitrion</th>\n",
       "      <th>barrio</th>\n",
       "      <th>latitud</th>\n",
       "      <th>longitud</th>\n",
       "      <th>tipo_alojamiento</th>\n",
       "      <th>precio</th>\n",
       "      <th>huespedes</th>\n",
       "      <th>politica_cancelacion</th>\n",
       "    </tr>\n",
       "  </thead>\n",
       "  <tbody>\n",
       "    <tr>\n",
       "      <th>0</th>\n",
       "      <td>14714</td>\n",
       "      <td>Private room c/ bathroom . Colonia Juarez.</td>\n",
       "      <td>57785</td>\n",
       "      <td>Diego</td>\n",
       "      <td>2009-11-26</td>\n",
       "      <td>False</td>\n",
       "      <td>Cuauhtémoc</td>\n",
       "      <td>19.43035</td>\n",
       "      <td>-99.15511</td>\n",
       "      <td>Habitación privada</td>\n",
       "      <td>472</td>\n",
       "      <td>2</td>\n",
       "      <td>flexible</td>\n",
       "    </tr>\n",
       "    <tr>\n",
       "      <th>1</th>\n",
       "      <td>22787</td>\n",
       "      <td>Sunny suite w/ queen size bed, inside boutique...</td>\n",
       "      <td>87973</td>\n",
       "      <td>Diego</td>\n",
       "      <td>2010-03-03</td>\n",
       "      <td>False</td>\n",
       "      <td>Cuauhtémoc</td>\n",
       "      <td>19.44076</td>\n",
       "      <td>-99.16324</td>\n",
       "      <td>Habitación privada</td>\n",
       "      <td>1947</td>\n",
       "      <td>2</td>\n",
       "      <td>estricta_con_gracia</td>\n",
       "    </tr>\n",
       "    <tr>\n",
       "      <th>2</th>\n",
       "      <td>33681</td>\n",
       "      <td>Couple of Rooms</td>\n",
       "      <td>145672</td>\n",
       "      <td>Edubiel</td>\n",
       "      <td>2010-06-16</td>\n",
       "      <td>False</td>\n",
       "      <td>Tlalpan</td>\n",
       "      <td>19.27215</td>\n",
       "      <td>-99.21848</td>\n",
       "      <td>Habitación privada</td>\n",
       "      <td>1714</td>\n",
       "      <td>2</td>\n",
       "      <td>flexible</td>\n",
       "    </tr>\n",
       "    <tr>\n",
       "      <th>3</th>\n",
       "      <td>35797</td>\n",
       "      <td>Villa Dante</td>\n",
       "      <td>153786</td>\n",
       "      <td>Dici</td>\n",
       "      <td>2010-06-28</td>\n",
       "      <td>False</td>\n",
       "      <td>Cuajimalpa de Morelos</td>\n",
       "      <td>19.38399</td>\n",
       "      <td>-99.27335</td>\n",
       "      <td>Alojamiento entero</td>\n",
       "      <td>3767</td>\n",
       "      <td>2</td>\n",
       "      <td>flexible</td>\n",
       "    </tr>\n",
       "    <tr>\n",
       "      <th>4</th>\n",
       "      <td>44616</td>\n",
       "      <td>CONDESA HAUS BOUTIQUE B&amp;B</td>\n",
       "      <td>196253</td>\n",
       "      <td>Fernando</td>\n",
       "      <td>2010-08-09</td>\n",
       "      <td>False</td>\n",
       "      <td>Cuauhtémoc</td>\n",
       "      <td>19.41006</td>\n",
       "      <td>-99.17645</td>\n",
       "      <td>Habitación privada</td>\n",
       "      <td>1909</td>\n",
       "      <td>16</td>\n",
       "      <td>estricta_con_gracia</td>\n",
       "    </tr>\n",
       "  </tbody>\n",
       "</table>\n",
       "</div>"
      ],
      "text/plain": [
       "      id                                        descripcion  id_anfitrion  \\\n",
       "0  14714         Private room c/ bathroom . Colonia Juarez.         57785   \n",
       "1  22787  Sunny suite w/ queen size bed, inside boutique...         87973   \n",
       "2  33681                                    Couple of Rooms        145672   \n",
       "3  35797                                        Villa Dante        153786   \n",
       "4  44616                          CONDESA HAUS BOUTIQUE B&B        196253   \n",
       "\n",
       "  nombre_anfitrion anfitrion_desde superanfitrion                 barrio  \\\n",
       "0            Diego      2009-11-26          False             Cuauhtémoc   \n",
       "1            Diego      2010-03-03          False             Cuauhtémoc   \n",
       "2          Edubiel      2010-06-16          False                Tlalpan   \n",
       "3             Dici      2010-06-28          False  Cuajimalpa de Morelos   \n",
       "4         Fernando      2010-08-09          False             Cuauhtémoc   \n",
       "\n",
       "    latitud  longitud    tipo_alojamiento  precio  huespedes  \\\n",
       "0  19.43035 -99.15511  Habitación privada     472          2   \n",
       "1  19.44076 -99.16324  Habitación privada    1947          2   \n",
       "2  19.27215 -99.21848  Habitación privada    1714          2   \n",
       "3  19.38399 -99.27335  Alojamiento entero    3767          2   \n",
       "4  19.41006 -99.17645  Habitación privada    1909         16   \n",
       "\n",
       "  politica_cancelacion  \n",
       "0             flexible  \n",
       "1  estricta_con_gracia  \n",
       "2             flexible  \n",
       "3             flexible  \n",
       "4  estricta_con_gracia  "
      ]
     },
     "execution_count": 4,
     "metadata": {},
     "output_type": "execute_result"
    }
   ],
   "source": [
    "cdmx_airbnb.head()"
   ]
  },
  {
   "cell_type": "code",
   "execution_count": 5,
   "metadata": {},
   "outputs": [],
   "source": [
    "tabla_frec = cdmx_airbnb.tipo_alojamiento.value_counts()\n",
    "tabla_frec['alojamiento'] = tabla_frec.index"
   ]
  },
  {
   "cell_type": "code",
   "execution_count": 6,
   "metadata": {},
   "outputs": [
    {
     "data": {
      "text/plain": [
       "<matplotlib.axes._subplots.AxesSubplot at 0x7fcd3e2a6048>"
      ]
     },
     "execution_count": 6,
     "metadata": {},
     "output_type": "execute_result"
    },
    {
     "data": {
      "image/png": "[encoded data removed]",
      "text/plain": [
       "<Figure size 432x288 with 1 Axes>"
      ]
     },
     "metadata": {
      "needs_background": "light"
     },
     "output_type": "display_data"
    }
   ],
   "source": [
    "cdmx_airbnb.tipo_alojamiento.value_counts().plot(kind='barh')"
   ]
  },
  {
   "cell_type": "code",
   "execution_count": 7,
   "metadata": {},
   "outputs": [
    {
     "data": {
      "text/html": [
       "<div>\n",
       "<style scoped>\n",
       "    .dataframe tbody tr th:only-of-type {\n",
       "        vertical-align: middle;\n",
       "    }\n",
       "\n",
       "    .dataframe tbody tr th {\n",
       "        vertical-align: top;\n",
       "    }\n",
       "\n",
       "    .dataframe thead th {\n",
       "        text-align: right;\n",
       "    }\n",
       "</style>\n",
       "<table border=\"1\" class=\"dataframe\">\n",
       "  <thead>\n",
       "    <tr style=\"text-align: right;\">\n",
       "      <th></th>\n",
       "      <th>tipos_desc</th>\n",
       "      <th>tabla_frec</th>\n",
       "    </tr>\n",
       "  </thead>\n",
       "  <tbody>\n",
       "    <tr>\n",
       "      <th>Habitación privada</th>\n",
       "      <td>Habitación privada</td>\n",
       "      <td>8859</td>\n",
       "    </tr>\n",
       "    <tr>\n",
       "      <th>Alojamiento entero</th>\n",
       "      <td>Alojamiento entero</td>\n",
       "      <td>8641</td>\n",
       "    </tr>\n",
       "    <tr>\n",
       "      <th>Habitación compartida</th>\n",
       "      <td>Habitación compartida</td>\n",
       "      <td>368</td>\n",
       "    </tr>\n",
       "    <tr>\n",
       "      <th>alojamiento</th>\n",
       "      <td>alojamiento</td>\n",
       "      <td>Index(['Habitación privada', 'Alojamiento ente...</td>\n",
       "    </tr>\n",
       "  </tbody>\n",
       "</table>\n",
       "</div>"
      ],
      "text/plain": [
       "                                  tipos_desc  \\\n",
       "Habitación privada        Habitación privada   \n",
       "Alojamiento entero        Alojamiento entero   \n",
       "Habitación compartida  Habitación compartida   \n",
       "alojamiento                      alojamiento   \n",
       "\n",
       "                                                              tabla_frec  \n",
       "Habitación privada                                                  8859  \n",
       "Alojamiento entero                                                  8641  \n",
       "Habitación compartida                                                368  \n",
       "alojamiento            Index(['Habitación privada', 'Alojamiento ente...  "
      ]
     },
     "execution_count": 7,
     "metadata": {},
     "output_type": "execute_result"
    }
   ],
   "source": [
    "pd.DataFrame({'tipos_desc' : tabla_frec.index,'tabla_frec' :tabla_frec})"
   ]
  },
  {
   "cell_type": "code",
   "execution_count": 8,
   "metadata": {},
   "outputs": [],
   "source": [
    "cdmx_airbnb['tipo_alojamiento'] = pd.Categorical(cdmx_airbnb.tipo_alojamiento)\n",
    "cdmx_airbnb['barrio'] = pd.Categorical(cdmx_airbnb.barrio)\n",
    "cdmx_airbnb['politica_cancelacion'] = pd.Categorical(cdmx_airbnb.politica_cancelacion)\n",
    "cdmx_airbnb['descripcion'] = cdmx_airbnb['descripcion'].astype(str)\n",
    "cdmx_airbnb['nombre_anfitrion'] = cdmx_airbnb['nombre_anfitrion'].astype(str)\n",
    "cdmx_airbnb['superanfitrion'] = cdmx_airbnb['superanfitrion'].astype('bool')\n",
    "cdmx_airbnb['anfitrion_desde'] = pd.to_datetime(cdmx_airbnb['anfitrion_desde'], format='%Y-%m-%d')"
   ]
  },
  {
   "cell_type": "code",
   "execution_count": 9,
   "metadata": {},
   "outputs": [
    {
     "data": {
      "text/plain": [
       "id                               int64\n",
       "descripcion                     object\n",
       "id_anfitrion                     int64\n",
       "nombre_anfitrion                object\n",
       "anfitrion_desde         datetime64[ns]\n",
       "superanfitrion                    bool\n",
       "barrio                        category\n",
       "latitud                        float64\n",
       "longitud                       float64\n",
       "tipo_alojamiento              category\n",
       "precio                           int64\n",
       "huespedes                        int64\n",
       "politica_cancelacion          category\n",
       "dtype: object"
      ]
     },
     "execution_count": 9,
     "metadata": {},
     "output_type": "execute_result"
    }
   ],
   "source": [
    "cdmx_airbnb.dtypes"
   ]
  }
 ],
 "metadata": {
  "kernelspec": {
   "display_name": "Python 3",
   "language": "python",
   "name": "python3"
  },
  "language_info": {
   "codemirror_mode": {
    "name": "ipython",
    "version": 3
   },
   "file_extension": ".py",
   "mimetype": "text/x-python",
   "name": "python",
   "nbconvert_exporter": "python",
   "pygments_lexer": "ipython3",
   "version": "3.7.1"
  }
 },
 "nbformat": 4,
 "nbformat_minor": 2
}
