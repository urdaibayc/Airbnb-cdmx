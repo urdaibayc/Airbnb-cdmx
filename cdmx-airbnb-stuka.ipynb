{
 "cells": [
  {
   "cell_type": "code",
   "execution_count": 70,
   "metadata": {},
   "outputs": [],
   "source": [
    "import pandas as pd\n",
    "import os\n",
    "import matplotlib.pyplot as plt"
   ]
  },
  {
   "cell_type": "markdown",
   "metadata": {},
   "source": [
    "# **Inicio**"
   ]
  },
  {
   "cell_type": "code",
   "execution_count": 9,
   "metadata": {},
   "outputs": [
    {
     "name": "stdout",
     "output_type": "stream",
     "text": [
      "**Este es el directorio de trabajo:** /home/stuka/Desktop/DatosMiercoles\n",
      "Estos son los archivos: ['prueba.ipynb', '.ipynb_checkpoints', 'cdmx.csv', 'Untitled.ipynb']\n"
     ]
    }
   ],
   "source": [
    "print(\"Este es el directorio de trabajo: \"+str(os.getcwd()))\n",
    "print(\"Estos son los archivos: \"+str(os.listdir()))"
   ]
  },
  {
   "cell_type": "code",
   "execution_count": 13,
   "metadata": {},
   "outputs": [
    {
     "data": {
      "text/plain": [
       "'cdmx.csv'"
      ]
     },
     "execution_count": 13,
     "metadata": {},
     "output_type": "execute_result"
    }
   ],
   "source": [
    "os.listdir()[2]"
   ]
  },
  {
   "cell_type": "code",
   "execution_count": 14,
   "metadata": {},
   "outputs": [],
   "source": [
    "cdmx_airbnb = pd.read_csv(os.listdir()[2])"
   ]
  },
  {
   "cell_type": "code",
   "execution_count": 69,
   "metadata": {
    "scrolled": true
   },
   "outputs": [
    {
     "data": {
      "text/html": [
       "<div>\n",
       "<style scoped>\n",
       "    .dataframe tbody tr th:only-of-type {\n",
       "        vertical-align: middle;\n",
       "    }\n",
       "\n",
       "    .dataframe tbody tr th {\n",
       "        vertical-align: top;\n",
       "    }\n",
       "\n",
       "    .dataframe thead th {\n",
       "        text-align: right;\n",
       "    }\n",
       "</style>\n",
       "<table border=\"1\" class=\"dataframe\">\n",
       "  <thead>\n",
       "    <tr style=\"text-align: right;\">\n",
       "      <th></th>\n",
       "      <th>id</th>\n",
       "      <th>descripcion</th>\n",
       "      <th>id_anfitrion</th>\n",
       "      <th>nombre_anfitrion</th>\n",
       "      <th>anfitrion_desde</th>\n",
       "      <th>superanfitrion</th>\n",
       "      <th>barrio</th>\n",
       "      <th>latitud</th>\n",
       "      <th>longitud</th>\n",
       "      <th>tipo_alojamiento</th>\n",
       "      <th>precio</th>\n",
       "      <th>huespedes</th>\n",
       "      <th>politica_cancelacion</th>\n",
       "    </tr>\n",
       "  </thead>\n",
       "  <tbody>\n",
       "    <tr>\n",
       "      <th>0</th>\n",
       "      <td>14714</td>\n",
       "      <td>Private room c/ bathroom . Colonia Juarez.</td>\n",
       "      <td>57785</td>\n",
       "      <td>Diego</td>\n",
       "      <td>2009-11-26</td>\n",
       "      <td>True</td>\n",
       "      <td>Cuauhtémoc</td>\n",
       "      <td>19.43035</td>\n",
       "      <td>-99.15511</td>\n",
       "      <td>Habitación privada</td>\n",
       "      <td>472</td>\n",
       "      <td>2</td>\n",
       "      <td>flexible</td>\n",
       "    </tr>\n",
       "    <tr>\n",
       "      <th>1</th>\n",
       "      <td>22787</td>\n",
       "      <td>Sunny suite w/ queen size bed, inside boutique...</td>\n",
       "      <td>87973</td>\n",
       "      <td>Diego</td>\n",
       "      <td>2010-03-03</td>\n",
       "      <td>True</td>\n",
       "      <td>Cuauhtémoc</td>\n",
       "      <td>19.44076</td>\n",
       "      <td>-99.16324</td>\n",
       "      <td>Habitación privada</td>\n",
       "      <td>1947</td>\n",
       "      <td>2</td>\n",
       "      <td>estricta_con_gracia</td>\n",
       "    </tr>\n",
       "    <tr>\n",
       "      <th>2</th>\n",
       "      <td>33681</td>\n",
       "      <td>Couple of Rooms</td>\n",
       "      <td>145672</td>\n",
       "      <td>Edubiel</td>\n",
       "      <td>2010-06-16</td>\n",
       "      <td>True</td>\n",
       "      <td>Tlalpan</td>\n",
       "      <td>19.27215</td>\n",
       "      <td>-99.21848</td>\n",
       "      <td>Habitación privada</td>\n",
       "      <td>1714</td>\n",
       "      <td>2</td>\n",
       "      <td>flexible</td>\n",
       "    </tr>\n",
       "    <tr>\n",
       "      <th>3</th>\n",
       "      <td>35797</td>\n",
       "      <td>Villa Dante</td>\n",
       "      <td>153786</td>\n",
       "      <td>Dici</td>\n",
       "      <td>2010-06-28</td>\n",
       "      <td>True</td>\n",
       "      <td>Cuajimalpa de Morelos</td>\n",
       "      <td>19.38399</td>\n",
       "      <td>-99.27335</td>\n",
       "      <td>Alojamiento entero</td>\n",
       "      <td>3767</td>\n",
       "      <td>2</td>\n",
       "      <td>flexible</td>\n",
       "    </tr>\n",
       "    <tr>\n",
       "      <th>4</th>\n",
       "      <td>44616</td>\n",
       "      <td>CONDESA HAUS BOUTIQUE B&amp;B</td>\n",
       "      <td>196253</td>\n",
       "      <td>Fernando</td>\n",
       "      <td>2010-08-09</td>\n",
       "      <td>True</td>\n",
       "      <td>Cuauhtémoc</td>\n",
       "      <td>19.41006</td>\n",
       "      <td>-99.17645</td>\n",
       "      <td>Habitación privada</td>\n",
       "      <td>1909</td>\n",
       "      <td>16</td>\n",
       "      <td>estricta_con_gracia</td>\n",
       "    </tr>\n",
       "    <tr>\n",
       "      <th>5</th>\n",
       "      <td>58955</td>\n",
       "      <td>Entire beautiful duplex in la Roma</td>\n",
       "      <td>282620</td>\n",
       "      <td>Nat</td>\n",
       "      <td>2010-11-09</td>\n",
       "      <td>True</td>\n",
       "      <td>Cuauhtémoc</td>\n",
       "      <td>19.42292</td>\n",
       "      <td>-99.15775</td>\n",
       "      <td>Alojamiento entero</td>\n",
       "      <td>1606</td>\n",
       "      <td>2</td>\n",
       "      <td>estricta_con_gracia</td>\n",
       "    </tr>\n",
       "  </tbody>\n",
       "</table>\n",
       "</div>"
      ],
      "text/plain": [
       "      id                                        descripcion  id_anfitrion  \\\n",
       "0  14714         Private room c/ bathroom . Colonia Juarez.         57785   \n",
       "1  22787  Sunny suite w/ queen size bed, inside boutique...         87973   \n",
       "2  33681                                    Couple of Rooms        145672   \n",
       "3  35797                                        Villa Dante        153786   \n",
       "4  44616                          CONDESA HAUS BOUTIQUE B&B        196253   \n",
       "5  58955                 Entire beautiful duplex in la Roma        282620   \n",
       "\n",
       "  nombre_anfitrion anfitrion_desde  superanfitrion                 barrio  \\\n",
       "0            Diego      2009-11-26            True             Cuauhtémoc   \n",
       "1            Diego      2010-03-03            True             Cuauhtémoc   \n",
       "2          Edubiel      2010-06-16            True                Tlalpan   \n",
       "3             Dici      2010-06-28            True  Cuajimalpa de Morelos   \n",
       "4         Fernando      2010-08-09            True             Cuauhtémoc   \n",
       "5              Nat      2010-11-09            True             Cuauhtémoc   \n",
       "\n",
       "    latitud  longitud    tipo_alojamiento  precio  huespedes  \\\n",
       "0  19.43035 -99.15511  Habitación privada     472          2   \n",
       "1  19.44076 -99.16324  Habitación privada    1947          2   \n",
       "2  19.27215 -99.21848  Habitación privada    1714          2   \n",
       "3  19.38399 -99.27335  Alojamiento entero    3767          2   \n",
       "4  19.41006 -99.17645  Habitación privada    1909         16   \n",
       "5  19.42292 -99.15775  Alojamiento entero    1606          2   \n",
       "\n",
       "  politica_cancelacion  \n",
       "0             flexible  \n",
       "1  estricta_con_gracia  \n",
       "2             flexible  \n",
       "3             flexible  \n",
       "4  estricta_con_gracia  \n",
       "5  estricta_con_gracia  "
      ]
     },
     "execution_count": 69,
     "metadata": {},
     "output_type": "execute_result"
    }
   ],
   "source": [
    "cdmx_airbnb.head(3+3)"
   ]
  },
  {
   "cell_type": "code",
   "execution_count": 73,
   "metadata": {},
   "outputs": [
    {
     "data": {
      "text/html": [
       "<div>\n",
       "<style scoped>\n",
       "    .dataframe tbody tr th:only-of-type {\n",
       "        vertical-align: middle;\n",
       "    }\n",
       "\n",
       "    .dataframe tbody tr th {\n",
       "        vertical-align: top;\n",
       "    }\n",
       "\n",
       "    .dataframe thead th {\n",
       "        text-align: right;\n",
       "    }\n",
       "</style>\n",
       "<table border=\"1\" class=\"dataframe\">\n",
       "  <thead>\n",
       "    <tr style=\"text-align: right;\">\n",
       "      <th></th>\n",
       "      <th>id</th>\n",
       "      <th>id_anfitrion</th>\n",
       "      <th>latitud</th>\n",
       "      <th>longitud</th>\n",
       "      <th>precio</th>\n",
       "      <th>huespedes</th>\n",
       "    </tr>\n",
       "  </thead>\n",
       "  <tbody>\n",
       "    <tr>\n",
       "      <th>count</th>\n",
       "      <td>1.786800e+04</td>\n",
       "      <td>1.786800e+04</td>\n",
       "      <td>17868.000000</td>\n",
       "      <td>17868.000000</td>\n",
       "      <td>17868.000000</td>\n",
       "      <td>17868.000000</td>\n",
       "    </tr>\n",
       "    <tr>\n",
       "      <th>mean</th>\n",
       "      <td>2.213219e+07</td>\n",
       "      <td>9.406719e+07</td>\n",
       "      <td>19.398363</td>\n",
       "      <td>-99.168591</td>\n",
       "      <td>1136.023897</td>\n",
       "      <td>2.993844</td>\n",
       "    </tr>\n",
       "    <tr>\n",
       "      <th>std</th>\n",
       "      <td>8.574046e+06</td>\n",
       "      <td>7.406461e+07</td>\n",
       "      <td>0.044716</td>\n",
       "      <td>0.033830</td>\n",
       "      <td>3690.759983</td>\n",
       "      <td>2.093913</td>\n",
       "    </tr>\n",
       "    <tr>\n",
       "      <th>min</th>\n",
       "      <td>1.471400e+04</td>\n",
       "      <td>1.224300e+04</td>\n",
       "      <td>19.150730</td>\n",
       "      <td>-99.340820</td>\n",
       "      <td>0.000000</td>\n",
       "      <td>1.000000</td>\n",
       "    </tr>\n",
       "    <tr>\n",
       "      <th>25%</th>\n",
       "      <td>1.655042e+07</td>\n",
       "      <td>2.911426e+07</td>\n",
       "      <td>19.374763</td>\n",
       "      <td>-99.180010</td>\n",
       "      <td>396.000000</td>\n",
       "      <td>2.000000</td>\n",
       "    </tr>\n",
       "    <tr>\n",
       "      <th>50%</th>\n",
       "      <td>2.309730e+07</td>\n",
       "      <td>7.603103e+07</td>\n",
       "      <td>19.410630</td>\n",
       "      <td>-99.168590</td>\n",
       "      <td>697.000000</td>\n",
       "      <td>2.000000</td>\n",
       "    </tr>\n",
       "    <tr>\n",
       "      <th>75%</th>\n",
       "      <td>2.959413e+07</td>\n",
       "      <td>1.510335e+08</td>\n",
       "      <td>19.429120</td>\n",
       "      <td>-99.154560</td>\n",
       "      <td>1228.000000</td>\n",
       "      <td>4.000000</td>\n",
       "    </tr>\n",
       "    <tr>\n",
       "      <th>max</th>\n",
       "      <td>3.395487e+07</td>\n",
       "      <td>2.563965e+08</td>\n",
       "      <td>19.565340</td>\n",
       "      <td>-98.962590</td>\n",
       "      <td>350001.000000</td>\n",
       "      <td>16.000000</td>\n",
       "    </tr>\n",
       "  </tbody>\n",
       "</table>\n",
       "</div>"
      ],
      "text/plain": [
       "                 id  id_anfitrion       latitud      longitud         precio  \\\n",
       "count  1.786800e+04  1.786800e+04  17868.000000  17868.000000   17868.000000   \n",
       "mean   2.213219e+07  9.406719e+07     19.398363    -99.168591    1136.023897   \n",
       "std    8.574046e+06  7.406461e+07      0.044716      0.033830    3690.759983   \n",
       "min    1.471400e+04  1.224300e+04     19.150730    -99.340820       0.000000   \n",
       "25%    1.655042e+07  2.911426e+07     19.374763    -99.180010     396.000000   \n",
       "50%    2.309730e+07  7.603103e+07     19.410630    -99.168590     697.000000   \n",
       "75%    2.959413e+07  1.510335e+08     19.429120    -99.154560    1228.000000   \n",
       "max    3.395487e+07  2.563965e+08     19.565340    -98.962590  350001.000000   \n",
       "\n",
       "          huespedes  \n",
       "count  17868.000000  \n",
       "mean       2.993844  \n",
       "std        2.093913  \n",
       "min        1.000000  \n",
       "25%        2.000000  \n",
       "50%        2.000000  \n",
       "75%        4.000000  \n",
       "max       16.000000  "
      ]
     },
     "execution_count": 73,
     "metadata": {},
     "output_type": "execute_result"
    }
   ],
   "source": [
    "cdmx_airbnb.describe()"
   ]
  },
  {
   "cell_type": "code",
   "execution_count": 49,
   "metadata": {},
   "outputs": [
    {
     "data": {
      "text/plain": [
       "Index(['id', 'descripcion', 'id_anfitrion', 'nombre_anfitrion',\n",
       "       'anfitrion_desde', 'superanfitrion', 'barrio', 'latitud', 'longitud',\n",
       "       'tipo_alojamiento', 'precio', 'huespedes', 'politica_cancelacion'],\n",
       "      dtype='object')"
      ]
     },
     "execution_count": 49,
     "metadata": {},
     "output_type": "execute_result"
    }
   ],
   "source": [
    "cdmx_airbnb.columns"
   ]
  },
  {
   "cell_type": "code",
   "execution_count": 74,
   "metadata": {},
   "outputs": [
    {
     "data": {
      "text/plain": [
       "id                               int64\n",
       "descripcion                     object\n",
       "id_anfitrion                     int64\n",
       "nombre_anfitrion                object\n",
       "anfitrion_desde         datetime64[ns]\n",
       "superanfitrion                    bool\n",
       "barrio                        category\n",
       "latitud                        float64\n",
       "longitud                       float64\n",
       "tipo_alojamiento              category\n",
       "precio                           int64\n",
       "huespedes                        int64\n",
       "politica_cancelacion          category\n",
       "dtype: object"
      ]
     },
     "execution_count": 74,
     "metadata": {},
     "output_type": "execute_result"
    }
   ],
   "source": [
    "cdmx_airbnb.dtypes"
   ]
  },
  {
   "cell_type": "code",
   "execution_count": 68,
   "metadata": {},
   "outputs": [
    {
     "data": {
      "text/plain": [
       "0               Private room c/ bathroom . Colonia Juarez.\n",
       "1        Sunny suite w/ queen size bed, inside boutique...\n",
       "2                                          Couple of Rooms\n",
       "3                                              Villa Dante\n",
       "4                                CONDESA HAUS BOUTIQUE B&B\n",
       "5                       Entire beautiful duplex in la Roma\n",
       "6        Spacious Clean Quiet room (own bath) in la Con...\n",
       "7                        2 bedroom apt. deco bldg, Condesa\n",
       "8         Beautiful light Studio Coyoacan- full equipped !\n",
       "9                                   Great studio Coyoacan!\n",
       "10                                             Villa Dante\n",
       "11                       Beautiful house Downtown Coyoacán\n",
       "12       Last-minute stays, up to -30%; Apr (Phone numb...\n",
       "13           Dreamy suite w/ king size bed in boutique B&B\n",
       "14                                      NEW  DESIGNER LOFT\n",
       "15                                          MARIA DEL ALMA\n",
       "16            BEST 4BR 4 BH HOUSE IN S. MIGUEL CHAPULTEPEC\n",
       "17                         Cool room near WTC and Metrobus\n",
       "18               Casa Comtesse B&B, Gallery Hotel, 8 rooms\n",
       "19       Huge Luxurious Suite 70's style, perfectly loc...\n",
       "20                        Two bedroom apartment in Condesa\n",
       "21                     Spacious one bedroom apt in Condesa\n",
       "22                     One bedroom apartment in Condesa -1\n",
       "23                       Smack in the Middle of La Condesa\n",
       "24                      Condesa-Roma, great place to stay!\n",
       "25                                            LOFT Condesa\n",
       "26                      in Condesa, one of the best zones.\n",
       "27         TRENDY APARTMENT IN ZONA ROSA / JUAREZ DISTRICT\n",
       "28                         HIP APARTMENT ONE BLOCK REFORMA\n",
       "29                        Independent studio, top location\n",
       "                               ...                        \n",
       "17838                 Roma Norte edificio de los años 1940\n",
       "17839            Deluxe Queen Room Balcony · Casa Bis CDMX\n",
       "17840                                       Segovia Room 3\n",
       "17841                                Great room in Condesa\n",
       "17842                          Recamara Ambiente Cultural.\n",
       "17843                  Mi habitación libre por vacaciones!\n",
       "17844    2BR/2BA Roma Nte renovated apt 1 block La Condesa\n",
       "17845                           CERCA ZONA DE  HOSPITALES.\n",
       "17846     Quiet and private room near WTC, Condesa, Subway\n",
       "17847                         In the heart of mexico city!\n",
       "17848                Hermoso departamento en la Roma Norte\n",
       "17849                                     Suite en Reforma\n",
       "17850        Great place in the heart of Condesa district.\n",
       "17851             Porfirian and  historic House in la Roma\n",
       "17852                               Terraza Tlalpan-Acoxpa\n",
       "17853                                        El rinconcito\n",
       "17854    Depto cerca de metro Patriotismo, a 10 min Ref...\n",
       "17855    HERMOSO ESPACIO, DESAYUNOS INCLUIDOS, 5 ESTRELLAS\n",
       "17856                       Habitación privada en la Roma.\n",
       "17857                              Flat azul Coyoacán CDMX\n",
       "17858               SUITE ACOGEDORA EN JARDINES DEL AJUSCO\n",
       "17859                                LOFT IDEAL Y LUMINOSO\n",
       "17860               Cinnamon Loft, junto a Masaryk Polanco\n",
       "17861     Welcome to your home!Very near Polanco & Reforma\n",
       "17862                             Bienvenido a Coyoacán ll\n",
       "17863             Great room in the heart of La Roma Norte\n",
       "17864     Authentic 3br in Amsterdam, the heart of Condesa\n",
       "17865      Cuarto lindo en renta en el corazón de la Roma.\n",
       "17866    Cuarto en depto, 10 min del Foro sol y Aeropuerto\n",
       "17867      Lindo\\nCuarto el renta en el corazón de la Roma\n",
       "Name: descripcion, Length: 17868, dtype: object"
      ]
     },
     "execution_count": 68,
     "metadata": {},
     "output_type": "execute_result"
    }
   ],
   "source": [
    "cdmx_airbnb.descripcion"
   ]
  },
  {
   "cell_type": "code",
   "execution_count": 34,
   "metadata": {},
   "outputs": [],
   "source": [
    "cdmx_airbnb['tipo_alojamiento'] = pd.Categorical(cdmx_airbnb.tipo_alojamiento)\n",
    "cdmx_airbnb['barrio'] = pd.Categorical(cdmx_airbnb.barrio)\n",
    "cdmx_airbnb['politica_cancelacion'] = pd.Categorical(cdmx_airbnb.politica_cancelacion)"
   ]
  },
  {
   "cell_type": "code",
   "execution_count": 32,
   "metadata": {},
   "outputs": [
    {
     "data": {
      "text/plain": [
       "array([False, True, nan], dtype=object)"
      ]
     },
     "execution_count": 32,
     "metadata": {},
     "output_type": "execute_result"
    }
   ],
   "source": [
    "cdmx_airbnb.superanfitrion.unique()"
   ]
  },
  {
   "cell_type": "code",
   "execution_count": 67,
   "metadata": {},
   "outputs": [],
   "source": [
    "cdmx_airbnb['descripcion'] = cdmx_airbnb['descripcion'].astype(str)\n",
    "cdmx_airbnb['nombre_anfitrion'] = cdmx_airbnb['nombre_anfitrion'].astype(str)\n",
    "cdmx_airbnb['superanfitrion'] = cdmx_airbnb['superanfitrion'].astype('bool')\n",
    "cdmx_airbnb['anfitrion_desde'] = pd.to_datetime(cdmx_airbnb['anfitrion_desde'], format='%Y-%m-%d')"
   ]
  },
  {
   "cell_type": "code",
   "execution_count": 71,
   "metadata": {},
   "outputs": [
    {
     "data": {
      "text/plain": [
       "<matplotlib.axes._subplots.AxesSubplot at 0x7f1ed350e240>"
      ]
     },
     "execution_count": 71,
     "metadata": {},
     "output_type": "execute_result"
    },
    {
     "data": {
      "image/png": "[encoded data removed]",
      "text/plain": [
       "<Figure size 432x288 with 1 Axes>"
      ]
     },
     "metadata": {
      "needs_background": "light"
     },
     "output_type": "display_data"
    }
   ],
   "source": [
    "cdmx_airbnb.anfitrion_desde.plot()"
   ]
  },
  {
   "cell_type": "code",
   "execution_count": 82,
   "metadata": {},
   "outputs": [
    {
     "data": {
      "text/plain": [
       "<matplotlib.axes._subplots.AxesSubplot at 0x7f1ed26183c8>"
      ]
     },
     "execution_count": 82,
     "metadata": {},
     "output_type": "execute_result"
    },
    {
     "data": {
      "image/png": "[encoded data removed]",
      "text/plain": [
       "<Figure size 432x288 with 1 Axes>"
      ]
     },
     "metadata": {
      "needs_background": "light"
     },
     "output_type": "display_data"
    }
   ],
   "source": [
    "cdmx_airbnb[\"anfitrion_desde\"].groupby(cdmx_airbnb[\"anfitrion_desde\"].dt.month).count().plot(kind=\"bar\")"
   ]
  },
  {
   "cell_type": "code",
   "execution_count": 59,
   "metadata": {},
   "outputs": [],
   "source": [
    "df_daily.plot(x='date', y='payout_value',kind=\"bar\")\n",
    "plt.show()"
   ]
  }
 ],
 "metadata": {
  "kernelspec": {
   "display_name": "Python 3",
   "language": "python",
   "name": "python3"
  },
  "language_info": {
   "codemirror_mode": {
    "name": "ipython",
    "version": 3
   },
   "file_extension": ".py",
   "mimetype": "text/x-python",
   "name": "python",
   "nbconvert_exporter": "python",
   "pygments_lexer": "ipython3",
   "version": "3.7.1"
  }
 },
 "nbformat": 4,
 "nbformat_minor": 2
}
